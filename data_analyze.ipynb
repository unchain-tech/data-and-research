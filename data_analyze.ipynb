{
 "cells": [
  {
   "cell_type": "code",
   "execution_count": 128,
   "metadata": {},
   "outputs": [],
   "source": [
    "import pandas as pd\n",
    "from tabulate import tabulate\n",
    "from decimal import Decimal\n",
    "from re import sub\n",
    "import numpy as np\n",
    "import dateparser"
   ]
  },
  {
   "cell_type": "code",
   "execution_count": 141,
   "metadata": {},
   "outputs": [
    {
     "name": "stderr",
     "output_type": "stream",
     "text": [
      "/Users/shohihara/Developer/shiftbase/UNCHAIN/data_and_research/messari_dataset/venv/lib/python3.9/site-packages/dateparser/date_parser.py:35: PytzUsageWarning: The localize method is no longer necessary, as this time zone supports the fold attribute (PEP 495). For more details on migrating to a PEP 495-compliant implementation, see https://pytz-deprecation-shim.readthedocs.io/en/latest/migration.html\n",
      "  date_obj = stz.localize(date_obj)\n"
     ]
    }
   ],
   "source": [
    "frDf = pd.read_csv(\"assets_fundraise.csv\")\n",
    "frDf.rename(columns = {\n",
    "    'Total Raised':'Total Raised ($)',\n",
    "    'R1 Price':'R1 Price ($)', \n",
    "    'R2 Price':'R2 Price ($)',\n",
    "    'R3 Price':'R3 Price ($)',\n",
    "    'R4 Price':'R4 Price ($)',\n",
    "    'R5 Price':'R5 Price ($)',\n",
    "    'R1 Raise':'R1 Raise ($)', \n",
    "    'R2 Raise':'R2 Raise ($)',\n",
    "    'R3 Raise':'R3 Raise ($)',\n",
    "    'R4 Raise':'R4 Raise ($)',\n",
    "    'R5 Raise':'R5 Raise ($)',\n",
    "}, inplace = True)\n",
    "\n",
    "\n",
    "for index in frDf.index:\n",
    "    \n",
    "    # for each round\n",
    "    for r in range(1,6):\n",
    "        \n",
    "        # normalize price values to USD and remove $\n",
    "        try:\n",
    "            frDf.at[index, f\"R{r} Price ($)\"] = Decimal(sub(r'[^\\d.]', '', frDf.at[index, f\"R{r} Price ($)\"]))\n",
    "        except:\n",
    "            pass\n",
    "        \n",
    "        # normalize raise values to USD and remove $\n",
    "        try:\n",
    "            frDf.at[index, f\"R{r} Raise ($)\"] = Decimal(sub(r'[^\\d.]', '', frDf.at[index, f\"R{r} Raise ($)\"]))\n",
    "        except:\n",
    "            pass\n",
    "\n",
    "        # normalize date \n",
    "        try:\n",
    "            t = dateparser.parse(frDf.at[index, f\"R{r} date\"])\n",
    "            frDf.at[index, f\"R{r} date\"] = dateparser.parse(frDf.at[index, f\"R{r} date\"])\n",
    "        except:\n",
    "            pass\n",
    "        \n",
    "\n",
    "        "
   ]
  },
  {
   "cell_type": "code",
   "execution_count": null,
   "metadata": {},
   "outputs": [],
   "source": [
    "print(tabulate(frDf, headers='keys', tablefmt='grid'))"
   ]
  },
  {
   "cell_type": "code",
   "execution_count": null,
   "metadata": {},
   "outputs": [],
   "source": []
  }
 ],
 "metadata": {
  "interpreter": {
   "hash": "f6981b284c35058a05b1ae775caebf1d0712032dfb9413dc3ec4ea98cceb40b0"
  },
  "kernelspec": {
   "display_name": "Python 3.9.10 ('venv': venv)",
   "language": "python",
   "name": "python3"
  },
  "language_info": {
   "codemirror_mode": {
    "name": "ipython",
    "version": 3
   },
   "file_extension": ".py",
   "mimetype": "text/x-python",
   "name": "python",
   "nbconvert_exporter": "python",
   "pygments_lexer": "ipython3",
   "version": "3.9.10"
  },
  "orig_nbformat": 4
 },
 "nbformat": 4,
 "nbformat_minor": 2
}
