{
 "cells": [
  {
   "cell_type": "code",
   "execution_count": 270,
   "metadata": {},
   "outputs": [],
   "source": [
    "import pandas as pd\n",
    "from tabulate import tabulate\n",
    "from decimal import Decimal\n",
    "from re import sub\n",
    "import numpy as np\n",
    "import dateparser"
   ]
  },
  {
   "cell_type": "code",
   "execution_count": 278,
   "metadata": {},
   "outputs": [
    {
     "name": "stderr",
     "output_type": "stream",
     "text": [
      "/Users/shohihara/Developer/shiftbase/UNCHAIN/data_and_research/messari_dataset/venv/lib/python3.9/site-packages/dateparser/date_parser.py:35: PytzUsageWarning: The localize method is no longer necessary, as this time zone supports the fold attribute (PEP 495). For more details on migrating to a PEP 495-compliant implementation, see https://pytz-deprecation-shim.readthedocs.io/en/latest/migration.html\n",
      "  date_obj = stz.localize(date_obj)\n"
     ]
    }
   ],
   "source": [
    "frDf = pd.read_csv(\"assets_fundraise.csv\")\n",
    "frDf.rename(columns = {\n",
    "    'Total Raised':'Total Raised ($)',\n",
    "    'R1 Price':'R1 Price ($)', \n",
    "    'R2 Price':'R2 Price ($)',\n",
    "    'R3 Price':'R3 Price ($)',\n",
    "    'R4 Price':'R4 Price ($)',\n",
    "    'R5 Price':'R5 Price ($)',\n",
    "    'R1 Raise':'R1 Raise ($)', \n",
    "    'R2 Raise':'R2 Raise ($)',\n",
    "    'R3 Raise':'R3 Raise ($)',\n",
    "    'R4 Raise':'R4 Raise ($)',\n",
    "    'R5 Raise':'R5 Raise ($)',\n",
    "}, inplace = True)\n",
    "\n",
    "\n",
    "for index in frDf.index:\n",
    "    \n",
    "    # for each round\n",
    "    for r in range(1,6):\n",
    "        \n",
    "        # normalize price values to USD and remove $\n",
    "        try:\n",
    "            frDf.at[index, f\"R{r} Price ($)\"] = Decimal(sub(r'[^\\d.]', '', frDf.at[index, f\"R{r} Price ($)\"]))\n",
    "        except:\n",
    "            pass\n",
    "        \n",
    "        # normalize raise values to USD and remove $\n",
    "        try:\n",
    "            frDf.at[index, f\"R{r} Raise ($)\"] = Decimal(sub(r'[^\\d.]', '', frDf.at[index, f\"R{r} Raise ($)\"]))\n",
    "        except:\n",
    "            pass\n",
    "\n",
    "        # normalize date \n",
    "        try:\n",
    "            t = dateparser.parse(frDf.at[index, f\"R{r} date\"])\n",
    "            frDf.at[index, f\"R{r} date\"] = dateparser.parse(frDf.at[index, f\"R{r} date\"])\n",
    "        except:\n",
    "            pass\n",
    "        \n",
    "\n",
    "        "
   ]
  },
  {
   "cell_type": "code",
   "execution_count": 283,
   "metadata": {},
   "outputs": [
    {
     "name": "stdout",
     "output_type": "stream",
     "text": [
      "solana raise amount (private) / total raised = 0.9330149003786942\n",
      "avalanche raise amount (private) / total raised = 0.2202438600412228\n"
     ]
    }
   ],
   "source": [
    "assetDf = pd.read_csv(\"assets.csv\")\n",
    "for index in frDf.index:\n",
    "    try:\n",
    "        assetName = (frDf.at[index, 'asset']).lower().replace('-', ' ')\n",
    "        assetType = assetDf.loc[assetDf['name'].str.lower() == assetName, 'token__token_type'].values\n",
    "        if len(assetType) == 0:\n",
    "            pass\n",
    "        else:\n",
    "            assetType = assetType[0].split(\",\")[0]\n",
    "            # if native token\n",
    "            if assetType == 'Native':\n",
    "                total_supply = frDf.at[index, 'Total supply']\n",
    "                total_raised = frDf.at[index, 'Total Raised ($)']\n",
    "                privateRaises = []\n",
    "                privateIssues = []\n",
    "                roundRaises = []\n",
    "                roundIssues = []\n",
    "                for r in range(1,6):\n",
    "                    raiseValue = float(frDf.at[index, f\"R{r} Raise ($)\"])\n",
    "                    roundTokenPrice = float(frDf.at[index, f\"R{r} Price ($)\"])\n",
    "                    roundTokenIssue = float(frDf.at[index, f\"R{r} Tokens For Sale\"].replace(',',''))\n",
    "                    if raiseValue == np.nan:\n",
    "                        raiseValue = 0\n",
    "                    if roundTokenPrice == np.nan:\n",
    "                        roundTokenPrice = 0\n",
    "                    if roundTokenIssue == np.nan:\n",
    "                        roundTokenIssue = 0\n",
    "\n",
    "                    roundRaises.append(roundTokenPrice * roundTokenIssue)\n",
    "                    roundIssues.append(roundTokenIssue)\n",
    "                    # print(assetName, raiseValue, roundTokenPrice, roundTokenIssue)\n",
    "\n",
    "                    if frDf.at[index, f\"R{r} type\"] not in [\"ICO \", \"IDO\", \"IEO \", np.nan]:\n",
    "                        # round_type = frDf.at[index, f\"R{r} type\"]\n",
    "                        privateRaises.append(roundTokenPrice * roundTokenIssue)\n",
    "                        privateIssues.append(roundTokenIssue)\n",
    "                    else:\n",
    "                        pass\n",
    "                \n",
    "                # print(privateRaises, roundRaises)\n",
    "                raise_ratio = sum(privateRaises) / sum(roundRaises)\n",
    "                print(assetName, \"raise amount (private) / total raised =\", raise_ratio)\n",
    "                \n",
    "                #pd.DataFrame({'Issues': roundIssues}, index=[f\"R{r}\" for r in range(len(roundIssues))] ).plot.pie(y=\"Issues\", figsize=(6,6))\n",
    "                \n",
    "            elif assetType[:6] == 'ERC20':\n",
    "                pass\n",
    "            else:\n",
    "                pass\n",
    "\n",
    "    except:\n",
    "        pass"
   ]
  }
 ],
 "metadata": {
  "interpreter": {
   "hash": "f6981b284c35058a05b1ae775caebf1d0712032dfb9413dc3ec4ea98cceb40b0"
  },
  "kernelspec": {
   "display_name": "Python 3.9.10 ('venv': venv)",
   "language": "python",
   "name": "python3"
  },
  "language_info": {
   "codemirror_mode": {
    "name": "ipython",
    "version": 3
   },
   "file_extension": ".py",
   "mimetype": "text/x-python",
   "name": "python",
   "nbconvert_exporter": "python",
   "pygments_lexer": "ipython3",
   "version": "3.9.10"
  },
  "orig_nbformat": 4
 },
 "nbformat": 4,
 "nbformat_minor": 2
}
